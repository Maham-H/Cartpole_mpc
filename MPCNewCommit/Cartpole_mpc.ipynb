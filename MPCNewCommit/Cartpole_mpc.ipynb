{
 "cells": [
  {
   "cell_type": "markdown",
   "metadata": {},
   "source": [
    "# Imports"
   ]
  },
  {
   "cell_type": "code",
   "execution_count": 1,
   "metadata": {},
   "outputs": [
    {
     "name": "stdout",
     "output_type": "stream",
     "text": [
      "time: 311 µs (started: 2021-01-19 02:11:35 -05:00)\n"
     ]
    }
   ],
   "source": [
    "import numpy as np\n",
    "import matplotlib.pyplot as plt\n",
    "#import matplotlib.axes as Axes\n",
    "from scipy.optimize import minimize\n",
    "#from scipy.optimize import NonlinearConstraint\n",
    "\n",
    "%matplotlib inline\n",
    "import time\n",
    "import pylab as pl\n",
    "from IPython import display\n",
    "\n",
    "%load_ext autotime"
   ]
  },
  {
   "cell_type": "markdown",
   "metadata": {},
   "source": [
    "# Parameters"
   ]
  },
  {
   "cell_type": "code",
   "execution_count": 2,
   "metadata": {},
   "outputs": [
    {
     "name": "stdout",
     "output_type": "stream",
     "text": [
      "time: 3.25 ms (started: 2021-01-19 02:11:45 -05:00)\n"
     ]
    }
   ],
   "source": [
    "config = {\"l\": 1, # length of the pendulum\n",
    "         \"mp\": 0.2, # mass of the pendulum\n",
    "         \"Mc\": 1, # Mass of the cart\n",
    "         \"g\": 9.81, # gravity\n",
    "         \"dt\":0.09, # time step for MPC\n",
    "         \"Np\": 24, #Horizn length\n",
    "         \"cart\" : (0.6,0.2), # dimensions of the cart\n",
    "         \"iters\" : 80, # Maximum number of iteration for the solution\n",
    "         \"q11\": 12., # state coefficient diag_1\n",
    "         \"q22\": 0.09, # diag_2\n",
    "         \"q33\": 2., # diag_3\n",
    "         \"q44\": 0.1, # diag_3\n",
    "         \"R\" : 0.3 # Input Coefficient\n",
    "         } \n",
    "\n",
    "Np=config[\"Np\"]\n",
    "bound_u=(-4.,4.)\n",
    "bound =((bound_u,)*Np)\n",
    "# x, xdot, theta, thetadot\n",
    "curr_q = np.array([np.random.randn(1)[0]*2, 0., -np.random.randn(1)[0], 0.])\n",
    "curr_q = np.reshape(curr_q,[4,1])\n",
    "u = np.array(np.ones(Np))\n",
    "\n"
   ]
  },
  {
   "cell_type": "markdown",
   "metadata": {},
   "source": [
    "# Helper functions"
   ]
  },
  {
   "cell_type": "code",
   "execution_count": 3,
   "metadata": {},
   "outputs": [
    {
     "name": "stdout",
     "output_type": "stream",
     "text": [
      "time: 928 µs (started: 2021-01-19 02:11:50 -05:00)\n"
     ]
    }
   ],
   "source": [
    "def state(curr_q,u,config):\n",
    "    mp = config[\"mp\"]\n",
    "    l = config[\"l\"]\n",
    "    Mc = config[\"Mc\"]\n",
    "    g = config[\"g\"]\n",
    "    dt = config[\"dt\"]\n",
    "    \n",
    "    #state x\n",
    "    dq1 = curr_q[1]  # initial state of the cartpole\n",
    "    # state xdot\n",
    "    dq2 = (u+mp*np.sin(curr_q[2])*(l*(curr_q[3]**2)\n",
    "                                          +g*np.cos(curr_q[2])))/(Mc+mp*(np.sin(curr_q[2])**2))\n",
    "    # state theta\n",
    "    dq3 = curr_q[3]\n",
    "    # state thetadot\n",
    "    dq4 = (-u*np.cos(curr_q[2])-mp*l*(curr_q[3]**2)\n",
    "               *np.cos(curr_q[2])*np.sin(curr_q[2])\n",
    "               -(Mc+mp)*g*np.sin(curr_q[2]))/(l*(Mc+mp*\n",
    "                                                (np.sin(curr_q[2])**2)))\n",
    "    next_q = curr_q+np.array([dq1,dq2,dq3,dq4])*dt\n",
    "    return next_q"
   ]
  },
  {
   "cell_type": "code",
   "execution_count": 4,
   "metadata": {},
   "outputs": [
    {
     "name": "stdout",
     "output_type": "stream",
     "text": [
      "time: 1.1 ms (started: 2021-01-19 02:11:51 -05:00)\n"
     ]
    }
   ],
   "source": [
    "def cost_fn(u,curr_q,config):\n",
    "    mp = config[\"mp\"]\n",
    "    l = config[\"l\"]\n",
    "    Mc = config[\"Mc\"]\n",
    "    g = config[\"g\"]\n",
    "    dt = config[\"dt\"]\n",
    "    Np= config[\"Np\"]\n",
    "    R = config[\"R\"]\n",
    "    cost=0\n",
    "    q_ref = np.array([0., 0., np.pi, 0.])\n",
    "    Q = np.array([[config[\"q11\"], 0., 0.,  0.],\n",
    "        [0., config[\"q22\"], 0., 0.],\n",
    "        [0., 0., config[\"q33\"], 0.],\n",
    "        [0., 0., 0., config[\"q44\"]]])\n",
    "    diff = np.zeros_like(q_ref)\n",
    "    for i in range(Np):\n",
    "        #if curr_q[2]>np.pi:\n",
    "        #    curr_q[2] = -curr_q[2]\n",
    "\n",
    "        next_q = state(curr_q,u[i], config)\n",
    "        diff[0] = curr_q[0] - q_ref[0]\n",
    "        diff[1] = curr_q[1] - q_ref[1]\n",
    "        diff[2] = curr_q[2] - q_ref[2]\n",
    "        diff[3] = curr_q[3] - q_ref[3]\n",
    "\n",
    "        iter_cost = np.matmul(np.matmul(diff.T,Q),diff) + R*((u[i]-0.)**2)\n",
    "        cost += iter_cost\n",
    "        curr_q = next_q\n",
    "    return cost"
   ]
  },
  {
   "cell_type": "code",
   "execution_count": 5,
   "metadata": {},
   "outputs": [
    {
     "name": "stdout",
     "output_type": "stream",
     "text": [
      "time: 1min 42s (started: 2020-12-30 06:25:28 -05:00)\n"
     ]
    }
   ],
   "source": [
    "\n",
    "\n",
    "max_iter = config[\"iters\"]\n",
    "history_q = []\n",
    "history_u = []\n",
    "p=0.2\n",
    "ls =0\n",
    "for i in range(max_iter):\n",
    "    history_q.append(curr_q)\n",
    "    cost=cost_fn(u,curr_q,config)\n",
    "    ls+=cost\n",
    "    out=minimize(cost_fn,u,(curr_q,config), method='L-BFGS-B', bounds=bound,\n",
    "                 options={'disp': False})\n",
    "\n",
    "    u=out.x\n",
    "    history_u.append(u[0])\n",
    "    curr_q= state(curr_q,u[0], config)\n"
   ]
  },
  {
   "cell_type": "code",
   "execution_count": 6,
   "metadata": {},
   "outputs": [
    {
     "name": "stdout",
     "output_type": "stream",
     "text": [
      "Average Loss: 218.97618199640428\n",
      "time: 500 µs (started: 2020-12-30 06:27:10 -05:00)\n"
     ]
    }
   ],
   "source": [
    "print('Average Loss:', ls/max_iter)\n",
    "\n"
   ]
  },
  {
   "cell_type": "markdown",
   "metadata": {},
   "source": [
    "# Helper Functions for display"
   ]
  },
  {
   "cell_type": "code",
   "execution_count": 8,
   "metadata": {},
   "outputs": [
    {
     "name": "stdout",
     "output_type": "stream",
     "text": [
      "time: 1.56 ms (started: 2020-12-30 06:31:14 -05:00)\n"
     ]
    }
   ],
   "source": [
    "def rotate_pos(pos, angle):\n",
    "\n",
    "    rot_mat = np.array([[np.cos(angle), -np.sin(angle)],\n",
    "                        [np.sin(angle), np.cos(angle)]])\n",
    "    #print(np.shape(np.dot(pos, rot_mat.T)))\n",
    "    return np.dot(pos, rot_mat.T)\n",
    "\n",
    "def square(center_x, center_y, shape, angle):\n",
    "\n",
    "    #square_xy = np.array([shape[0], shape[1]])\n",
    "    square_xy = np.array([[shape[0], shape[1]],\n",
    "                              [-shape[0], shape[1]],\n",
    "                              [-shape[0], -shape[1]],\n",
    "                              [shape[0], -shape[1]],\n",
    "                              [shape[0], shape[1]]])\n",
    "    # translate position to world\n",
    "    # rotation\n",
    "    trans_points = rotate_pos(square_xy, angle)\n",
    "    # translation\n",
    "    trans_points += [center_x[0], center_y]\n",
    "\n",
    "    return trans_points[:,0], trans_points[:,1]\n",
    "\n",
    "def coord_cartpole(curr_q,config):\n",
    "\n",
    "    cart=config[\"cart\"]\n",
    "    l=config[\"l\"]\n",
    "    #cart\n",
    "    cart_x,cart_y = square(curr_q[0], 0., cart, 0.)\n",
    "    #pend\n",
    "    pend_x = [curr_q[0], curr_q[0]+l*np.cos(curr_q[2]-np.pi/2)]\n",
    "    pend_y = [0., l*np.sin(curr_q[2]-np.pi/2)]\n",
    "    return cart_x,cart_y, pend_x, pend_y\n",
    "\n",
    "\n"
   ]
  },
  {
   "cell_type": "markdown",
   "metadata": {},
   "source": [
    "# Visualization Cartpole"
   ]
  },
  {
   "cell_type": "code",
   "execution_count": 9,
   "metadata": {},
   "outputs": [
    {
     "data": {
      "image/png": "[encoded data removed]",
      "text/plain": [
       "<Figure size 432x288 with 1 Axes>"
      ]
     },
     "metadata": {
      "needs_background": "light"
     },
     "output_type": "display_data"
    },
    {
     "name": "stdout",
     "output_type": "stream",
     "text": [
      "time: 23.4 s (started: 2020-12-30 06:31:15 -05:00)\n"
     ]
    }
   ],
   "source": [
    "\n",
    "for i in range(max_iter):\n",
    "    curr_x = history_q[i]\n",
    "    x1,y1, x2, y2 = coord_cartpole(curr_x,config)\n",
    "    pl.clf()\n",
    "    pl.plot(x1, y1, 'g-',x2, y2, 'r--o')\n",
    "    pl.xlim(-3.5, 3.5)\n",
    "    pl.ylim(-1.5,1.5)\n",
    "    display.display(pl.gcf())\n",
    "    display.clear_output(wait=True)\n",
    "    time.sleep(0.001)"
   ]
  },
  {
   "cell_type": "markdown",
   "metadata": {},
   "source": [
    "# Visualization states and input"
   ]
  },
  {
   "cell_type": "code",
   "execution_count": 10,
   "metadata": {},
   "outputs": [
    {
     "data": {
      "text/plain": [
       "<matplotlib.legend.Legend at 0x101c2cd470>"
      ]
     },
     "execution_count": 10,
     "metadata": {},
     "output_type": "execute_result"
    },
    {
     "data": {
      "image/png": "[encoded data removed]",
      "text/plain": [
       "<Figure size 432x288 with 1 Axes>"
      ]
     },
     "metadata": {
      "needs_background": "light"
     },
     "output_type": "display_data"
    },
    {
     "name": "stdout",
     "output_type": "stream",
     "text": [
      "time: 248 ms (started: 2020-12-30 06:37:19 -05:00)\n"
     ]
    }
   ],
   "source": [
    "x=[]\n",
    "xdot=[]\n",
    "th=[]\n",
    "thdot=[]\n",
    "for i in range(max_iter):\n",
    "    x.append(history_q[i][0])\n",
    "    xdot.append(history_q[i][1])\n",
    "    th.append(history_q[i][2])\n",
    "    thdot.append(history_q[i][3])\n",
    " \n",
    "\n",
    "plt.plot(x)\n",
    "plt.plot(xdot)\n",
    "plt.plot(th)\n",
    "plt.plot(thdot)\n",
    "plt.plot(history_u)\n",
    "plt.legend(['x','xdot','theta','thetadot','u'])"
   ]
  },
  {
   "cell_type": "code",
   "execution_count": 10,
   "metadata": {},
   "outputs": [
    {
     "name": "stdout",
     "output_type": "stream",
     "text": [
      "iteration :\t 0\n",
      "iteration :\t 200\n",
      "iteration :\t 400\n",
      "iteration :\t 600\n",
      "iteration :\t 800\n",
      "iteration :\t 1000\n",
      "iteration :\t 1200\n",
      "iteration :\t 1400\n",
      "iteration :\t 1600\n",
      "iteration :\t 1800\n",
      "iteration :\t 2000\n",
      "iteration :\t 2200\n",
      "iteration :\t 2400\n",
      "iteration :\t 2600\n",
      "iteration :\t 2800\n",
      "iteration :\t 3000\n",
      "iteration :\t 3200\n",
      "iteration :\t 3400\n",
      "iteration :\t 3600\n",
      "iteration :\t 3800\n",
      "iteration :\t 4000\n",
      "iteration :\t 4200\n",
      "iteration :\t 4400\n",
      "iteration :\t 4600\n",
      "iteration :\t 4800\n",
      "iteration :\t 5000\n",
      "iteration :\t 5200\n",
      "iteration :\t 5400\n",
      "iteration :\t 5600\n",
      "iteration :\t 5800\n",
      "iteration :\t 6000\n",
      "iteration :\t 6200\n",
      "iteration :\t 6400\n",
      "iteration :\t 6600\n",
      "iteration :\t 6800\n",
      "iteration :\t 7000\n",
      "iteration :\t 7200\n",
      "iteration :\t 7400\n",
      "iteration :\t 7600\n",
      "iteration :\t 7800\n",
      "iteration :\t 8000\n",
      "iteration :\t 8200\n",
      "iteration :\t 8400\n",
      "iteration :\t 8600\n",
      "iteration :\t 8800\n",
      "iteration :\t 9000\n",
      "iteration :\t 9200\n",
      "iteration :\t 9400\n",
      "iteration :\t 9600\n",
      "iteration :\t 9800\n",
      "iteration :\t 10000\n",
      "iteration :\t 10200\n",
      "iteration :\t 10400\n",
      "iteration :\t 10600\n",
      "iteration :\t 10800\n",
      "iteration :\t 11000\n",
      "iteration :\t 11200\n",
      "iteration :\t 11400\n",
      "iteration :\t 11600\n",
      "iteration :\t 11800\n",
      "iteration :\t 12000\n",
      "iteration :\t 12200\n",
      "iteration :\t 12400\n",
      "iteration :\t 12600\n",
      "iteration :\t 12800\n",
      "iteration :\t 13000\n",
      "iteration :\t 13200\n",
      "iteration :\t 13400\n",
      "iteration :\t 13600\n",
      "iteration :\t 13800\n",
      "iteration :\t 14000\n",
      "iteration :\t 14200\n",
      "iteration :\t 14400\n",
      "iteration :\t 14600\n",
      "iteration :\t 14800\n",
      "iteration :\t 15000\n",
      "iteration :\t 15200\n",
      "iteration :\t 15400\n",
      "iteration :\t 15600\n",
      "iteration :\t 15800\n",
      "iteration :\t 16000\n",
      "iteration :\t 16200\n",
      "iteration :\t 16400\n",
      "iteration :\t 16600\n",
      "iteration :\t 16800\n",
      "iteration :\t 17000\n",
      "iteration :\t 17200\n",
      "iteration :\t 17400\n",
      "iteration :\t 17600\n",
      "iteration :\t 17800\n",
      "iteration :\t 18000\n",
      "iteration :\t 18200\n",
      "iteration :\t 18400\n",
      "iteration :\t 18600\n",
      "iteration :\t 18800\n",
      "iteration :\t 19000\n",
      "iteration :\t 19200\n",
      "iteration :\t 19400\n",
      "iteration :\t 19600\n",
      "iteration :\t 19800\n",
      "time: 3h 2min 25s (started: 2021-01-19 02:17:06 -05:00)\n"
     ]
    }
   ],
   "source": [
    "NNinputs = []\n",
    "NNout=[]\n",
    "max_iter=config[\"iters\"]\n",
    "history_q = []\n",
    "history_u = []\n",
    "for i in range(20000):\n",
    "    curr_q = np.random.randn(4)\n",
    "    curr_q = np.reshape(curr_q,[4,1])\n",
    "    u = np.array(np.ones(Np))\n",
    "    NNinputs.append(curr_q) \n",
    "    \n",
    "    out=minimize(cost_fn,u,(curr_q,config), method='L-BFGS-B', bounds=bound,\n",
    "                options={'disp': False})\n",
    "    u=out.x\n",
    "    NNout.append(u[0])\n",
    "    if i%200==0:\n",
    "        print('iteration :\\t',i)\n",
    "\n",
    "\n",
    "\n",
    "    "
   ]
  },
  {
   "cell_type": "code",
   "execution_count": 11,
   "metadata": {},
   "outputs": [
    {
     "name": "stdout",
     "output_type": "stream",
     "text": [
      "Input dimensions for NN:  (20000, 4, 1)\n",
      "Output dimensions for NN:  20000\n",
      "time: 20.3 ms (started: 2021-01-19 05:35:12 -05:00)\n"
     ]
    }
   ],
   "source": [
    "print(\"Input dimensions for NN: \",np.shape(NNinputs))\n",
    "print(\"Output dimensions for NN: \",np.size(NNout))\n",
    "\n"
   ]
  },
  {
   "cell_type": "markdown",
   "metadata": {},
   "source": [
    "# Storing Data"
   ]
  },
  {
   "cell_type": "code",
   "execution_count": 12,
   "metadata": {},
   "outputs": [
    {
     "name": "stdout",
     "output_type": "stream",
     "text": [
      "time: 955 µs (started: 2021-01-19 05:35:17 -05:00)\n"
     ]
    }
   ],
   "source": [
    "def store_data(filename,inputs,outputs):\n",
    "    # Storing to csv File\n",
    "    count=np.size(outputs)\n",
    "    with open(filename, 'w', newline='') as file:\n",
    "        writer = csv.writer(file)\n",
    "        for c in range(count):\n",
    "            \n",
    "            # writer.writerow([\"Tweets\", \"Labels\"])\n",
    "            writer.writerow([inputs[c][0][0],inputs[c][1][0], \n",
    "                             inputs[c][2][0],inputs[c][3][0],\n",
    "                            outputs[c]])\n",
    "\n",
    "    file.close()\n",
    "\n"
   ]
  },
  {
   "cell_type": "code",
   "execution_count": 13,
   "metadata": {},
   "outputs": [
    {
     "name": "stdout",
     "output_type": "stream",
     "text": [
      "time: 142 ms (started: 2021-01-19 05:35:19 -05:00)\n"
     ]
    }
   ],
   "source": [
    "import csv\n",
    "filename='NNdataMPCrandom.csv'\n",
    "store_data(filename,NNinputs,NNout)"
   ]
  },
  {
   "cell_type": "code",
   "execution_count": 14,
   "metadata": {},
   "outputs": [
    {
     "name": "stdout",
     "output_type": "stream",
     "text": [
      "4.0\n",
      "4.0\n",
      "-2.770192658293685\n",
      "4.0\n",
      "4.0\n",
      "4.0\n",
      "4.0\n",
      "4.0\n",
      "4.0\n",
      "4.0\n",
      "4.0\n",
      "4.0\n",
      "4.0\n",
      "-1.7264735251090617\n",
      "4.0\n",
      "4.0\n",
      "-2.186882710368739\n",
      "1.6487068504194982\n",
      "4.0\n",
      "4.0\n",
      "4.0\n",
      "-4.0\n",
      "-2.6934965880988293\n",
      "2.8070759086943706\n",
      "4.0\n",
      "4.0\n",
      "-3.3477459821791666\n",
      "-3.2149412310304135\n",
      "-4.0\n",
      "3.566588450421162\n",
      "time: 1.79 ms (started: 2021-01-19 05:35:25 -05:00)\n"
     ]
    }
   ],
   "source": [
    "for i in range(100,130,1):\n",
    "    \n",
    "    print(NNout[i])"
   ]
  },
  {
   "cell_type": "code",
   "execution_count": null,
   "metadata": {},
   "outputs": [],
   "source": []
  }
 ],
 "metadata": {
  "kernelspec": {
   "display_name": "Python 3",
   "language": "python",
   "name": "python3"
  },
  "language_info": {
   "codemirror_mode": {
    "name": "ipython",
    "version": 3
   },
   "file_extension": ".py",
   "mimetype": "text/x-python",
   "name": "python",
   "nbconvert_exporter": "python",
   "pygments_lexer": "ipython3",
   "version": "3.7.1"
  }
 },
 "nbformat": 4,
 "nbformat_minor": 4
}
