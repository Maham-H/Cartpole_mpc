{
 "cells": [
  {
   "cell_type": "code",
   "execution_count": 1,
   "metadata": {},
   "outputs": [
    {
     "name": "stdout",
     "output_type": "stream",
     "text": [
      "time: 262 µs (started: 2021-01-19 08:04:56 -05:00)\n"
     ]
    }
   ],
   "source": [
    "import numpy as np\n",
    "import helperfunctions as hf\n",
    "import matplotlib.pyplot as plt\n",
    "import torch\n",
    "import torch.nn as nn\n",
    "\n",
    "%matplotlib inline\n",
    "%load_ext autotime\n",
    "#%autoload"
   ]
  },
  {
   "cell_type": "markdown",
   "metadata": {},
   "source": [
    "# Model"
   ]
  },
  {
   "cell_type": "code",
   "execution_count": 2,
   "metadata": {},
   "outputs": [
    {
     "name": "stdout",
     "output_type": "stream",
     "text": [
      "time: 574 µs (started: 2021-01-19 08:04:56 -05:00)\n"
     ]
    }
   ],
   "source": [
    "\n",
    "config= {\"input_lower_bound\": -4.0,\n",
    "         \"input_uper_bound\": np.reshape(4.0,[1,1]),\n",
    "         \"input_dim\":4,\n",
    "         \"output_dim\":1,\n",
    "         \"hidden1\": 28,#28,\n",
    "         \"hidden2\": 15,#15,\n",
    "         \"hidden3\": 1, \n",
    "         \"lr\":0.001,\n",
    "         \"batch_size\" : 1000,\n",
    "         \"epochs\": 1000,\n",
    "         \"iters\": 100,\n",
    "         \"drop1\":0.5,\n",
    "         \"drop2\":0.5,\n",
    "         \"print_it\": True,\n",
    "         \"display_interval\": 20,\n",
    "         \"vector\": [1,1,1,1],\n",
    "         \"liml\": [-200.,0.,4.],\n",
    "         \"limu\" : [0.,4.,200.]\n",
    "         \n",
    "    }\n",
    "\n"
   ]
  },
  {
   "cell_type": "code",
   "execution_count": 3,
   "metadata": {
    "scrolled": true
   },
   "outputs": [
    {
     "name": "stdout",
     "output_type": "stream",
     "text": [
      "Input Dimensions :  (35000, 4)\n",
      "Output Dimensions :  (35000, 1)\n",
      "data loaded successfully\n",
      "succesfully assigned regions\n",
      "succesfully assigned data to each region\n",
      "data size for region : 0 torch.Size([8750, 4])\n",
      "max value for region: 0 : 13.068592071533203\n",
      "min value for region: 0 : 3.141336441040039\n",
      "training for region  0  complete\n",
      "data size for region : 1 torch.Size([8750, 4])\n",
      "max value for region: 1 : 3.1413357257843018\n",
      "min value for region: 1 : 0.9033691883087158\n",
      "training for region  1  complete\n",
      "data size for region : 2 torch.Size([8750, 4])\n",
      "max value for region: 2 : 0.903044581413269\n",
      "min value for region: 2 : -0.6348904967308044\n",
      "training for region  2  complete\n",
      "data size for region : 3 torch.Size([8750, 4])\n",
      "max value for region: 3 : -0.6350257396697998\n",
      "min value for region: 3 : -8.09624195098877\n",
      "training for region  3  complete\n",
      "time: 291 ms (started: 2021-01-19 08:04:57 -05:00)\n"
     ]
    }
   ],
   "source": [
    "file=['NNdataMPCrandom.csv','NNdataMPC2.csv']\n",
    "regions=4#int(np.size(config[\"limu\"]))#4\n",
    "load_weights = True\n",
    "#load_weights=False\n",
    "\n",
    "model,crit, min_data, max_data =hf.main_cell(regions,file, config, \n",
    "                                             load_weights=load_weights, \n",
    "                                             test_size=0.05, density=True,\n",
    "                                             select_interv=False, datn=[])\n",
    "if load_weights:\n",
    "    for j in range(regions):\n",
    "        filename= 'MPC_model_weight_region_density'+str(j+1)\n",
    "        model['region'+str(j+1)].load_state_dict(torch.load(filename))"
   ]
  },
  {
   "cell_type": "code",
   "execution_count": 4,
   "metadata": {},
   "outputs": [
    {
     "name": "stdout",
     "output_type": "stream",
     "text": [
      "Input Dimensions :  (35000, 4)\n",
      "Output Dimensions :  (35000, 1)\n"
     ]
    },
    {
     "data": {
      "image/png": "[encoded data removed]",
      "text/plain": [
       "<Figure size 432x288 with 1 Axes>"
      ]
     },
     "metadata": {
      "needs_background": "light"
     },
     "output_type": "display_data"
    },
    {
     "name": "stdout",
     "output_type": "stream",
     "text": [
      "time: 357 ms (started: 2021-01-19 08:05:03 -05:00)\n"
     ]
    }
   ],
   "source": [
    "data_new,data,labels=hf.plotdata(file)\n",
    "plt.hist(data_new,15)\n",
    "plt.show()"
   ]
  },
  {
   "cell_type": "code",
   "execution_count": 5,
   "metadata": {},
   "outputs": [
    {
     "name": "stdout",
     "output_type": "stream",
     "text": [
      "min value of sum of the total data:  {'region1': 3.141336441040039, 'region2': 0.9033691883087158, 'region3': -0.6348904967308044, 'region4': -8.09624195098877}\n",
      "max value of sum of the total data:  {'region1': 13.068592071533203, 'region2': 3.1413357257843018, 'region3': 0.903044581413269, 'region4': -0.6350257396697998}\n",
      "time: 593 µs (started: 2021-01-19 08:05:06 -05:00)\n"
     ]
    }
   ],
   "source": [
    "print('min value of sum of the total data: ', min_data)\n",
    "print('max value of sum of the total data: ', max_data)"
   ]
  },
  {
   "cell_type": "markdown",
   "metadata": {},
   "source": [
    "# Cartpole Configuration and Visualization"
   ]
  },
  {
   "cell_type": "code",
   "execution_count": 16,
   "metadata": {},
   "outputs": [
    {
     "name": "stdout",
     "output_type": "stream",
     "text": [
      "time: 596 µs (started: 2021-01-19 08:05:26 -05:00)\n"
     ]
    }
   ],
   "source": [
    "config3 = {\"l\": 1, # length of the pendulum\n",
    "         \"mp\": 0.2, # mass of the pendulum\n",
    "         \"Mc\": 1, # Mass of the cart\n",
    "         \"g\": 9.81, # gravity\n",
    "         \"dt\":0.09, # time step for MPC\n",
    "         \"Np\": 22, #Horizn length\n",
    "         \"cart\" : (0.6,0.2), # dimensions of the cart\n",
    "         \"iters\" : 150, # Maximum number of iteration for the solution\n",
    "         \"q11\": 12., # state coefficient diag_1\n",
    "         \"q22\": 0.09, # diag_2\n",
    "         \"q33\": 2., # diag_3\n",
    "         \"q44\": 0.1, # diag_3\n",
    "         \"R\" : 0.3, # Input Coefficient\n",
    "         \"vector\": [1,1,1,1]\n",
    "         }\n"
   ]
  },
  {
   "cell_type": "code",
   "execution_count": 17,
   "metadata": {
    "scrolled": true
   },
   "outputs": [
    {
     "data": {
      "image/png": "[encoded data removed]",
      "text/plain": [
       "<Figure size 432x288 with 1 Axes>"
      ]
     },
     "metadata": {
      "needs_background": "light"
     },
     "output_type": "display_data"
    },
    {
     "name": "stdout",
     "output_type": "stream",
     "text": [
      "time: 328 ms (started: 2021-01-19 08:05:26 -05:00)\n"
     ]
    }
   ],
   "source": [
    "np.warnings.filterwarnings('ignore', category=np.VisibleDeprecationWarning)\n",
    "max_iter=600\n",
    "history_q,history_u=hf.histories(max_iter, regions,max_data, min_data, model,config3, plot=True, sim=False)\n"
   ]
  },
  {
   "cell_type": "code",
   "execution_count": 11,
   "metadata": {},
   "outputs": [
    {
     "name": "stdout",
     "output_type": "stream",
     "text": [
      "[-0.10647225 -1.706314   -3.6617024  -1.1117885 ]\n",
      "time: 823 µs (started: 2021-01-19 08:05:18 -05:00)\n"
     ]
    }
   ],
   "source": [
    "print(history_q[0])"
   ]
  },
  {
   "cell_type": "code",
   "execution_count": null,
   "metadata": {},
   "outputs": [],
   "source": [
    "print(history_q[0])"
   ]
  },
  {
   "cell_type": "code",
   "execution_count": null,
   "metadata": {},
   "outputs": [],
   "source": [
    "print(history_q[0])"
   ]
  },
  {
   "cell_type": "code",
   "execution_count": null,
   "metadata": {},
   "outputs": [],
   "source": [
    "print(history_q[0])"
   ]
  },
  {
   "cell_type": "markdown",
   "metadata": {},
   "source": [
    "# Plotting data for dimensions"
   ]
  },
  {
   "cell_type": "code",
   "execution_count": null,
   "metadata": {},
   "outputs": [],
   "source": [
    "sl = [-200,-4,-3,-2,-1,0,1,2,3,4]\n",
    "su = [-4,-3,-2,-1,0,1,2,3,4,200]\n",
    "#for j in range(regions):\n",
    "#    modelr = model['region'+str(j+1)]\n",
    "#    filename = 'MPC_model_weight_region_density'+str(j+1)\n",
    "#    torch.save(modelr.state_dict(), filename)\n",
    "#NN.load_state_dict(torch.load('MPC_model_weights'))\n",
    "#NN.eval()"
   ]
  },
  {
   "cell_type": "code",
   "execution_count": null,
   "metadata": {},
   "outputs": [],
   "source": [
    "filenames =['NNdataMPC.csv','NNdataMPC2.csv']\n",
    "cm = hf.plot_dimensions(sl,su,filenames, model ,regions, max_data, min_data, \n",
    "                     plot_num=False, plot_loss=False, plot_std=False)"
   ]
  },
  {
   "cell_type": "code",
   "execution_count": null,
   "metadata": {},
   "outputs": [],
   "source": [
    "f=['NNdataMPCrandom.csv','NNdataMPC2.csv']\n",
    "cm = hf.plot_dimensions(sl,su,f, model ,regions, max_data, min_data, \n",
    "                     plot_num=True, plot_loss=True, plot_std=False)"
   ]
  },
  {
   "cell_type": "code",
   "execution_count": null,
   "metadata": {},
   "outputs": [],
   "source": []
  }
 ],
 "metadata": {
  "kernelspec": {
   "display_name": "Python 3",
   "language": "python",
   "name": "python3"
  },
  "language_info": {
   "codemirror_mode": {
    "name": "ipython",
    "version": 3
   },
   "file_extension": ".py",
   "mimetype": "text/x-python",
   "name": "python",
   "nbconvert_exporter": "python",
   "pygments_lexer": "ipython3",
   "version": "3.7.1"
  }
 },
 "nbformat": 4,
 "nbformat_minor": 2
}
