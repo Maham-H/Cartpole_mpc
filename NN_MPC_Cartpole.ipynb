{
 "cells": [
  {
   "cell_type": "code",
   "execution_count": 1,
   "metadata": {},
   "outputs": [
    {
     "name": "stdout",
     "output_type": "stream",
     "text": [
      "time: 268 µs (started: 2021-01-09 13:35:26 -05:00)\n"
     ]
    }
   ],
   "source": [
    "import numpy as np\n",
    "import helperfunctions as hf\n",
    "import matplotlib.pyplot as plt\n",
    "import torch\n",
    "import torch.nn as nn\n",
    "\n",
    "%matplotlib inline\n",
    "%load_ext autotime\n",
    "#%autoload"
   ]
  },
  {
   "cell_type": "markdown",
   "metadata": {},
   "source": [
    "# Model"
   ]
  },
  {
   "cell_type": "code",
   "execution_count": 2,
   "metadata": {},
   "outputs": [
    {
     "name": "stdout",
     "output_type": "stream",
     "text": [
      "time: 528 µs (started: 2021-01-09 13:35:26 -05:00)\n"
     ]
    }
   ],
   "source": [
    "config= {\"input_lower_bound\": -4.0,\n",
    "         \"input_uper_bound\": np.reshape(4.0,[1,1]),\n",
    "         \"input_dim\":4,\n",
    "         \"output_dim\":1,\n",
    "         \"hidden1\": 28,\n",
    "         \"hidden2\":15,\n",
    "         \"hidden3\": 0, \n",
    "         \"lr\":0.001,\n",
    "         \"batch_size\" : 2000,\n",
    "         \"epochs\": 1000,\n",
    "         \"iters\": 100,\n",
    "         \"print_it\": True,\n",
    "         \"display_interval\": 20\n",
    "         \n",
    "    }\n",
    "\n"
   ]
  },
  {
   "cell_type": "code",
   "execution_count": 3,
   "metadata": {},
   "outputs": [
    {
     "name": "stdout",
     "output_type": "stream",
     "text": [
      "Input Dimensions :  (30000, 4)\n",
      "Output Dimensions :  (30000, 1)\n",
      "data loaded successfully\n",
      "succesfully assigned regions\n",
      "succesfully assigned data to each region\n",
      "data size for region : 0 torch.Size([4058, 4])\n",
      "training for region  0  complete\n",
      "data size for region : 1 torch.Size([25744, 4])\n",
      "training for region  1  complete\n",
      "data size for region : 2 torch.Size([197, 4])\n",
      "training for region  2  complete\n",
      "time: 717 ms (started: 2021-01-09 13:35:26 -05:00)\n"
     ]
    }
   ],
   "source": [
    "filename1='NNdataMPC.csv'\n",
    "filename2='NNdataMPC2.csv'\n",
    "regions=3\n",
    "#load_weights = True\n",
    "load_weights=True\n",
    "model,crit, min_data, max_data =hf.main_cell(regions,filename1,filename2, config, load_weights=load_weights, test_size=0.05)\n",
    "if load_weights:\n",
    "    for j in range(regions):\n",
    "        filename= 'MPC_model_weight_region'+str(j+1)\n",
    "        model['region'+str(j+1)].load_state_dict(torch.load(filename))"
   ]
  },
  {
   "cell_type": "markdown",
   "metadata": {},
   "source": [
    "# Cartpole"
   ]
  },
  {
   "cell_type": "code",
   "execution_count": 4,
   "metadata": {},
   "outputs": [
    {
     "name": "stdout",
     "output_type": "stream",
     "text": [
      "time: 4.59 ms (started: 2021-01-09 13:35:30 -05:00)\n"
     ]
    }
   ],
   "source": [
    "import matplotlib.pyplot as plt\n",
    "import time\n",
    "%matplotlib inline\n",
    "import pylab as pl\n",
    "from IPython import display\n"
   ]
  },
  {
   "cell_type": "code",
   "execution_count": 5,
   "metadata": {},
   "outputs": [
    {
     "name": "stdout",
     "output_type": "stream",
     "text": [
      "time: 1.13 ms (started: 2021-01-09 13:35:30 -05:00)\n"
     ]
    }
   ],
   "source": [
    "def rotate_pos(pos, angle):\n",
    "\n",
    "    rot_mat = np.array([[np.cos(angle), -np.sin(angle)],\n",
    "                        [np.sin(angle), np.cos(angle)]])\n",
    "    return np.dot(pos, rot_mat.T)\n",
    "\n",
    "def square(center_x, center_y, shape, angle):\n",
    "\n",
    "    #square_xy = np.array([shape[0], shape[1]])\n",
    "    square_xy = np.array([[shape[0], shape[1]],\n",
    "                              [-shape[0], shape[1]],\n",
    "                              [-shape[0], -shape[1]],\n",
    "                              [shape[0], -shape[1]],\n",
    "                              [shape[0], shape[1]]])\n",
    "    # translate position to world\n",
    "    # rotation\n",
    "    trans_points = rotate_pos(square_xy, angle)\n",
    "    # translation\n",
    "    trans_points += [center_x, center_y]\n",
    "\n",
    "    return trans_points[:,0], trans_points[:,1]\n",
    "\n",
    "def coord_cartpole(curr_q,config):\n",
    "\n",
    "    cart = config[\"cart\"]\n",
    "    l=config[\"l\"]\n",
    "    #cart\n",
    "    cart_x,cart_y = square(curr_q[0], 0., cart, 0.)\n",
    "    #pend\n",
    "    pend_x = [curr_q[0], curr_q[0]+l*np.cos(curr_q[2]-np.pi/2)]\n",
    "    pend_y = [0., l*np.sin(curr_q[2]-np.pi/2)]\n",
    "    return cart_x,cart_y, pend_x, pend_y\n",
    "\n",
    "\n",
    "\n"
   ]
  },
  {
   "cell_type": "code",
   "execution_count": 6,
   "metadata": {},
   "outputs": [
    {
     "name": "stdout",
     "output_type": "stream",
     "text": [
      "time: 977 µs (started: 2021-01-09 13:35:31 -05:00)\n"
     ]
    }
   ],
   "source": [
    "config3 = {\"l\": 1, # length of the pendulum\n",
    "         \"mp\": 0.2, # mass of the pendulum\n",
    "         \"Mc\": 1, # Mass of the cart\n",
    "         \"g\": 9.81, # gravity\n",
    "         \"dt\":0.09, # time step for MPC\n",
    "         \"Np\": 22, #Horizn length\n",
    "         \"cart\" : (0.6,0.2), # dimensions of the cart\n",
    "         \"iters\" : 150, # Maximum number of iteration for the solution\n",
    "         \"q11\": 12., # state coefficient diag_1\n",
    "         \"q22\": 0.09, # diag_2\n",
    "         \"q33\": 2., # diag_3\n",
    "         \"q44\": 0.1, # diag_3\n",
    "         \"R\" : 0.3 # Input Coefficient\n",
    "         }\n",
    "def state(curr_q,u,config):\n",
    "    mp = config[\"mp\"]\n",
    "    l = config[\"l\"]\n",
    "    Mc = config[\"Mc\"]\n",
    "    g = config[\"g\"]\n",
    "    dt = config[\"dt\"]\n",
    "    \n",
    "    #state x\n",
    "    dq1 = curr_q[1]  # initial state of the cartpole\n",
    "    # state xdot\n",
    "    dq2 = (u+mp*np.sin(curr_q[2])*(l*(curr_q[3]**2)\n",
    "                                          +g*np.cos(curr_q[2])))/(Mc+mp*(np.sin(curr_q[2])**2))\n",
    "    # state theta\n",
    "    dq3 = curr_q[3]\n",
    "    # state thetadot\n",
    "    dq4 = (-u*np.cos(curr_q[2])-mp*l*(curr_q[3]**2)\n",
    "               *np.cos(curr_q[2])*np.sin(curr_q[2])\n",
    "               -(Mc+mp)*g*np.sin(curr_q[2]))/(l*(Mc+mp*\n",
    "                                                (np.sin(curr_q[2])**2)))\n",
    "    next_q = curr_q+np.array([dq1,dq2,dq3,dq4])*dt\n",
    "    for i in range(np.size(next_q)):\n",
    "        try:\n",
    "            np.dtype(next_q[i])\n",
    "        except:\n",
    "            next_q[i]=next_q[i][0]\n",
    "    return next_q"
   ]
  },
  {
   "cell_type": "code",
   "execution_count": 7,
   "metadata": {},
   "outputs": [
    {
     "name": "stdout",
     "output_type": "stream",
     "text": [
      "time: 66.5 ms (started: 2021-01-09 13:35:33 -05:00)\n"
     ]
    },
    {
     "name": "stderr",
     "output_type": "stream",
     "text": [
      "/Users/anaconda3/lib/python3.7/site-packages/ipykernel_launcher.py:34: VisibleDeprecationWarning: Creating an ndarray from ragged nested sequences (which is a list-or-tuple of lists-or-tuples-or ndarrays with different lengths or shapes) is deprecated. If you meant to do this, you must specify 'dtype=object' when creating the ndarray\n"
     ]
    }
   ],
   "source": [
    "max_iter=200\n",
    "old_q = np.array([0., 0., -np.random.randn(1)[0], 0.])\n",
    "old_q = torch.tensor(np.reshape(old_q,[1,4]),dtype=torch.float)\n",
    "old_q1=old_q.detach().numpy()[0]\n",
    "history_q = [old_q1]\n",
    "\n",
    "\n",
    "interval = (max_data-min_data)/regions\n",
    "\n",
    "for i in range(max_iter):\n",
    "    for j in range(regions):\n",
    "            upr_limit = (j+1)*interval\n",
    "            upr_limit +=min_data\n",
    "            lower_limit = j*interval\n",
    "            lower_limit +=min_data\n",
    "            data_sum = np.sum(old_q1)\n",
    "         \n",
    "\n",
    "            if (data_sum < upr_limit) and (data_sum >= lower_limit):\n",
    "                NN = model['region'+str(j+1)]\n",
    "                u = NN.forward(old_q)\n",
    "                u = u.detach().numpy()\n",
    "                u = u[0]\n",
    "\n",
    "\n",
    "    curr_q = np.array(state(old_q1,u,config3)).astype(float)\n",
    "    \n",
    "    history_q.append(curr_q)\n",
    "    old_q=torch.tensor(curr_q,dtype=torch.float)\n",
    "    \n",
    "    old_q1=old_q.detach().numpy()\n",
    "    \n"
   ]
  },
  {
   "cell_type": "code",
   "execution_count": 8,
   "metadata": {},
   "outputs": [
    {
     "data": {
      "text/plain": [
       "<matplotlib.legend.Legend at 0x1a2453b4e0>"
      ]
     },
     "execution_count": 8,
     "metadata": {},
     "output_type": "execute_result"
    },
    {
     "data": {
      "image/png": "[encoded data removed]",
      "text/plain": [
       "<Figure size 432x288 with 1 Axes>"
      ]
     },
     "metadata": {
      "needs_background": "light"
     },
     "output_type": "display_data"
    },
    {
     "name": "stdout",
     "output_type": "stream",
     "text": [
      "time: 224 ms (started: 2021-01-09 13:35:34 -05:00)\n"
     ]
    }
   ],
   "source": [
    "x=[]\n",
    "xdot=[]\n",
    "th=[]\n",
    "thdot=[]\n",
    "for i in range(max_iter):\n",
    "    x.append(history_q[i][0])\n",
    "    xdot.append(history_q[i][1])\n",
    "    th.append(history_q[i][2])\n",
    "    thdot.append(history_q[i][3])\n",
    " \n",
    "\n",
    "plt.plot(x)\n",
    "plt.plot(xdot)\n",
    "plt.plot(th)\n",
    "plt.plot(thdot)\n",
    "plt.legend(['x','xdot','theta','thetadot'])"
   ]
  },
  {
   "cell_type": "code",
   "execution_count": 9,
   "metadata": {},
   "outputs": [
    {
     "data": {
      "image/png": "[encoded data removed]",
      "text/plain": [
       "<Figure size 432x288 with 1 Axes>"
      ]
     },
     "metadata": {
      "needs_background": "light"
     },
     "output_type": "display_data"
    },
    {
     "name": "stdout",
     "output_type": "stream",
     "text": [
      "time: 30.5 s (started: 2021-01-09 13:35:37 -05:00)\n"
     ]
    }
   ],
   "source": [
    "for i in range(max_iter):\n",
    "    curr_x = history_q[i]\n",
    "    x1,y1, x2, y2 = coord_cartpole(curr_x,config3)\n",
    "    pl.clf()\n",
    "    pl.plot(x1, y1, 'g-',x2, y2, 'r--o')\n",
    "    pl.xlim(-3.5, 3.5)\n",
    "    pl.ylim(-1.5,1.5)\n",
    "    display.display(pl.gcf())\n",
    "    display.clear_output(wait=True)\n",
    "    time.sleep(0.00006)"
   ]
  },
  {
   "cell_type": "code",
   "execution_count": null,
   "metadata": {},
   "outputs": [],
   "source": [
    "#plotx = X_test\n",
    "#ploty = y_test\n",
    "\n",
    "#outputs = NN(plotx)\n",
    "#outputs = NN(X_test)\n",
    "\n",
    "#state=plotx.detach().numpy().squeeze()\n",
    "#print(np.shape(state))\n",
    "#state = np.mean(state,1)\n",
    "#diff = np.absolute((ploty-outputs).detach().numpy().squeeze())\n",
    "\n",
    "#plt.plot(state,diff,'r.')\n",
    "#plt.xlabel('states')\n",
    "#plt.ylabel('absolute error')\n",
    "\n",
    "#state1=plotx[:,1:2].detach().numpy().squeeze()\n",
    "\n",
    "#plt.plot(state1,diff,'g.')\n",
    "\n",
    "\n",
    "#state1=plotx[:,2:3].detach().numpy().squeeze()\n",
    "\n",
    "#plt.plot(state1,diff,'b.')\n",
    "\n",
    "\n",
    "#state1=plotx[:,3:4].detach().numpy().squeeze()\n",
    "\n",
    "#plt.plot(state1,diff,'y.')\n",
    "#plt.ylim([0,0.5])\n",
    "#plt.xlim([-0.2,0.2])"
   ]
  },
  {
   "cell_type": "code",
   "execution_count": null,
   "metadata": {},
   "outputs": [],
   "source": [
    "#for j in range(regions):\n",
    "#    modelr = model['region'+str(j+1)]\n",
    "#    filename = 'MPC_model_weight_region'+str(j+1)\n",
    "#    torch.save(modelr.state_dict(), filename)\n",
    "#torch.save(NN.state_dict(), 'MPC2_model_weights')\n",
    "#torch.save(NN.state_dict(), 'MPC3_model_weights')\n",
    "#torch.save(NN.state_dict(), 'MPC4_model_weights')\n",
    "\n",
    "#torch.save(NN.state_dict(), 'MPC5_model_weights')\n",
    "\n",
    "#NN.load_state_dict(torch.load('MPC_model_weights'))\n",
    "#NN.eval()"
   ]
  }
 ],
 "metadata": {
  "kernelspec": {
   "display_name": "Python 3",
   "language": "python",
   "name": "python3"
  },
  "language_info": {
   "codemirror_mode": {
    "name": "ipython",
    "version": 3
   },
   "file_extension": ".py",
   "mimetype": "text/x-python",
   "name": "python",
   "nbconvert_exporter": "python",
   "pygments_lexer": "ipython3",
   "version": "3.7.1"
  }
 },
 "nbformat": 4,
 "nbformat_minor": 2
}
