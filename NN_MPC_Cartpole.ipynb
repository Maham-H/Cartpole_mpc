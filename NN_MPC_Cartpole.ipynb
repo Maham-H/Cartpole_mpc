{
 "cells": [
  {
   "cell_type": "code",
   "execution_count": 1,
   "metadata": {},
   "outputs": [
    {
     "name": "stdout",
     "output_type": "stream",
     "text": [
      "time: 287 µs (started: 2020-12-31 20:40:09 -05:00)\n"
     ]
    }
   ],
   "source": [
    "import torch\n",
    "import torch.nn as nn\n",
    "import numpy as np\n",
    "import csv\n",
    "%load_ext autotime"
   ]
  },
  {
   "cell_type": "markdown",
   "metadata": {},
   "source": [
    "# Load Data"
   ]
  },
  {
   "cell_type": "code",
   "execution_count": 2,
   "metadata": {},
   "outputs": [
    {
     "name": "stdout",
     "output_type": "stream",
     "text": [
      "time: 824 µs (started: 2020-12-31 20:40:10 -05:00)\n"
     ]
    }
   ],
   "source": [
    "def load_data(filename):\n",
    "    reader = csv.reader(open(filename, 'r'), delimiter= \",\")\n",
    "    \n",
    "    NNin = []\n",
    "    NNout = []\n",
    "\n",
    "    for line in reader:\n",
    "        count=0\n",
    "        states = []\n",
    "        for field in line:\n",
    "            if (count!=4):\n",
    "                states.append(np.float(field))\n",
    "            else:\n",
    "                NNout.append(np.float(field))\n",
    "            count +=1\n",
    "        NNin.append(states)\n",
    "    return NNin,NNout\n",
    "    "
   ]
  },
  {
   "cell_type": "code",
   "execution_count": 3,
   "metadata": {},
   "outputs": [
    {
     "name": "stdout",
     "output_type": "stream",
     "text": [
      "time: 170 ms (started: 2020-12-31 20:40:11 -05:00)\n"
     ]
    }
   ],
   "source": [
    "filename='NNdataMPC.csv'\n",
    "data1, labels1 = load_data(filename)\n",
    "filename='NNdataMPC.csv'\n",
    "data2, labels2 = load_data(filename)\n"
   ]
  },
  {
   "cell_type": "code",
   "execution_count": 4,
   "metadata": {},
   "outputs": [
    {
     "name": "stdout",
     "output_type": "stream",
     "text": [
      "Input1 Dimensions :  (15000, 4)\n",
      "Output1 Dimensions :  (15000,)\n",
      "Input2 Dimensions :  (15000, 4)\n",
      "Output2 Dimensions :  (15000,)\n",
      "time: 37.9 ms (started: 2020-12-31 20:40:11 -05:00)\n"
     ]
    }
   ],
   "source": [
    "print('Input1 Dimensions : ', np.shape(data1))\n",
    "print('Output1 Dimensions : ', np.shape(labels1))\n",
    "print('Input2 Dimensions : ', np.shape(data2))\n",
    "print('Output2 Dimensions : ', np.shape(labels2))\n"
   ]
  },
  {
   "cell_type": "code",
   "execution_count": 5,
   "metadata": {},
   "outputs": [
    {
     "name": "stdout",
     "output_type": "stream",
     "text": [
      "Input Dimensions :  (30000, 4)\n",
      "Output Dimensions :  (30000, 1)\n",
      "time: 34 ms (started: 2020-12-31 20:40:11 -05:00)\n"
     ]
    }
   ],
   "source": [
    "data = np.concatenate((data1,data2), axis=0)\n",
    "labels = np.concatenate((labels1,labels2), axis=0)\n",
    "\n",
    "N = np.size(labels)\n",
    "labels=np.reshape(labels,[N, 1])\n",
    "print('Input Dimensions : ', np.shape(data))\n",
    "print('Output Dimensions : ', np.shape(labels))"
   ]
  },
  {
   "cell_type": "code",
   "execution_count": 6,
   "metadata": {},
   "outputs": [
    {
     "name": "stdout",
     "output_type": "stream",
     "text": [
      "time: 871 ms (started: 2020-12-31 20:40:11 -05:00)\n"
     ]
    }
   ],
   "source": [
    "from sklearn.model_selection import train_test_split\n",
    "\n",
    "\n",
    "X_train1, X_test1, y_train1, y_test1 = train_test_split(data, labels, test_size=0.04, random_state=42)"
   ]
  },
  {
   "cell_type": "code",
   "execution_count": 7,
   "metadata": {},
   "outputs": [
    {
     "name": "stdout",
     "output_type": "stream",
     "text": [
      "time: 4.27 ms (started: 2020-12-31 20:40:12 -05:00)\n"
     ]
    }
   ],
   "source": [
    "X_train1, X_val1, y_train1, y_val1 = train_test_split(X_train1, y_train1, test_size=0.05, random_state=42)"
   ]
  },
  {
   "cell_type": "code",
   "execution_count": 8,
   "metadata": {},
   "outputs": [
    {
     "name": "stdout",
     "output_type": "stream",
     "text": [
      "Train Data Dimensions :  (27360, 4)\n",
      "Val Data Dimensions :  (1440, 4)\n",
      "Test Data Dimensions :  (1200, 4)\n",
      "time: 1.02 ms (started: 2020-12-31 20:40:13 -05:00)\n"
     ]
    }
   ],
   "source": [
    "print('Train Data Dimensions : ', np.shape(X_train1))\n",
    "print('Val Data Dimensions : ', np.shape(X_val1))\n",
    "print('Test Data Dimensions : ', np.shape(X_test1))\n",
    "\n"
   ]
  },
  {
   "cell_type": "code",
   "execution_count": 9,
   "metadata": {},
   "outputs": [
    {
     "name": "stdout",
     "output_type": "stream",
     "text": [
      "torch.Size([27360, 4])\n",
      "torch.Size([27360, 1])\n",
      "time: 14.2 ms (started: 2020-12-31 20:40:14 -05:00)\n"
     ]
    }
   ],
   "source": [
    "X_train = torch.tensor(X_train1, dtype=torch.float) # 15k x 4 tensor\n",
    "y_train = torch.tensor(y_train1, dtype=torch.float) # 15k, tensor\n",
    "X_val = torch.tensor(X_val1, dtype=torch.float) # 15k x 4 tensor\n",
    "y_val = torch.tensor(y_val1, dtype=torch.float) # 15k, tensor\n",
    "X_test = torch.tensor(X_test1, dtype=torch.float) # 15k x 4 tensor\n",
    "y_test = torch.tensor(y_test1, dtype=torch.float) # 15k, tensor\n",
    "print(X_train.size())\n",
    "print(y_train.size())"
   ]
  },
  {
   "cell_type": "markdown",
   "metadata": {},
   "source": [
    "# Model"
   ]
  },
  {
   "cell_type": "code",
   "execution_count": 10,
   "metadata": {},
   "outputs": [
    {
     "name": "stdout",
     "output_type": "stream",
     "text": [
      "time: 1.18 ms (started: 2020-12-31 20:40:16 -05:00)\n"
     ]
    }
   ],
   "source": [
    "import torch.optim as optim\n",
    "\n",
    "class NN_MPC(nn.Module):\n",
    "    def __init__(self, config):\n",
    "        super(NN_MPC, self).__init__()\n",
    "        self.inputSize = config[\"input_dim\"]\n",
    "        self.outputSize = config[\"output_dim\"]\n",
    "        self.hiddenSize1 = config[\"hidden1\"] \n",
    "        self.hiddenSize2 = config[\"hidden2\"] \n",
    "        self.alpha = config[\"learning_rate\"]\n",
    "        self.h=torch.tensor(config[\"input_uper_bound\"]+1., dtype=torch.float)\n",
    "        self.f0=config[\"f0\"]\n",
    "        self.N = config[\"N\"]\n",
    "        \n",
    "        self.h1 = nn.Linear(self.inputSize, self.hiddenSize1)\n",
    "        #self.d1 = nn.Dropout(p=0.2)\n",
    "        self.h2 = nn.Linear(self.hiddenSize1,self.hiddenSize2)\n",
    "        #self.d2 = nn.Dropout(p=0.5)\n",
    "        self.h3 = nn.Linear(self.hiddenSize2,1)\n",
    "    def forward(self,x):\n",
    "        x = torch.sigmoid(self.h1(x))\n",
    "        #x = self.d1(x)\n",
    "        x = torch.tanh(self.h2(x))\n",
    "        #x = self.d2(x)\n",
    "        x = self.h3(x)\n",
    "        #print(x)\n",
    "        return x\n",
    "\n"
   ]
  },
  {
   "cell_type": "markdown",
   "metadata": {},
   "source": [
    "# Parameters"
   ]
  },
  {
   "cell_type": "code",
   "execution_count": 28,
   "metadata": {},
   "outputs": [
    {
     "name": "stdout",
     "output_type": "stream",
     "text": [
      "time: 1.28 ms (started: 2020-12-31 20:51:31 -05:00)\n"
     ]
    }
   ],
   "source": [
    "config= {\"input_lower_bound\": -4.0,\n",
    "         \"input_uper_bound\": np.reshape(4.0,[1,1]),\n",
    "         \"input_dim\":np.shape(data)[1],\n",
    "         \"output_dim\":1,\n",
    "         \"hidden1\": 17,\n",
    "         \"hidden2\": 12,\n",
    "         \"mu\": 0,\n",
    "         \"sigma_2\":1,\n",
    "         \"learning_rate\":0.001,\n",
    "         \"f0\":1.,\n",
    "         \"N\": np.shape(data)[0],\n",
    "         \"batch_size\" : 8000,\n",
    "         \"epochs\": 300,\n",
    "         \"iters\": 10\n",
    "         \n",
    "    }\n",
    "NN = NN_MPC(config)\n",
    "\n"
   ]
  },
  {
   "cell_type": "code",
   "execution_count": 21,
   "metadata": {},
   "outputs": [
    {
     "name": "stdout",
     "output_type": "stream",
     "text": [
      "time: 666 µs (started: 2020-12-31 20:47:03 -05:00)\n"
     ]
    }
   ],
   "source": [
    "lr = config[\"learning_rate\"]\n",
    "\n",
    "criterion = nn.MSELoss()\n",
    "#optimizer = optim.SGD(NN.parameters(), lr=lr, momentum=0.9)\n",
    "\n",
    "optimizer = optim.Adam(NN.parameters(), lr=lr, betas=(0.9, 0.99), eps=1e-08, weight_decay=0.0, amsgrad=False)"
   ]
  },
  {
   "cell_type": "markdown",
   "metadata": {},
   "source": [
    "# Model"
   ]
  },
  {
   "cell_type": "code",
   "execution_count": 22,
   "metadata": {},
   "outputs": [
    {
     "name": "stdout",
     "output_type": "stream",
     "text": [
      "iter :  1 \t train loss :0.064 \t val loss :0.0507\n",
      "time: 37.6 s (started: 2020-12-31 20:47:08 -05:00)\n"
     ]
    }
   ],
   "source": [
    "N= np.shape(X_train1)[0]\n",
    "epochs = config[\"epochs\"]\n",
    "batch_size = config[\"batch_size\"]\n",
    "iters = 100#int(N/batch_size)#config[\"iters\"]\n",
    "loss_val = 50000.0\n",
    "val_dim = np.size(y_val)\n",
    "display_interval = 100\n",
    "i=0\n",
    "while loss_val>1e-2 and i<int(display_interval*100):\n",
    "    i+=1\n",
    "    #print(N)\n",
    "    running_loss =0.0\n",
    "    permutation = torch.randperm(X_train.size()[0])\n",
    "\n",
    "    for j in range(iters):\n",
    "        optimizer.zero_grad()\n",
    "        indices = permutation[i:i+batch_size]\n",
    "        batch_x, batch_y = X_train[indices], y_train[indices]\n",
    "\n",
    "        # in case you wanted a semi-full example\n",
    "        outputs = NN.forward(batch_x)\n",
    "        #outputs = NN(X_train[j])\n",
    "        loss = criterion(outputs, batch_y)\n",
    "        loss.backward()\n",
    "        optimizer.step()\n",
    "        running_loss += loss.item()\n",
    "        \n",
    "    \n",
    "    if i % display_interval == 0:    # print every display_interval=100 mini-batches\n",
    "        outval = NN.forward(X_val)\n",
    "        lossv = criterion(outval, y_val)\n",
    "        loss_val = lossv.item()\n",
    "        print('iter : ',int(i/display_interval),'\\t train loss :'+\"{:.3f}\".format(running_loss/iters),\n",
    "             '\\t val loss :'+\"{:.4f}\".format(loss_val))\n",
    "        running_loss = 0.0\n",
    "            "
   ]
  },
  {
   "cell_type": "code",
   "execution_count": 30,
   "metadata": {},
   "outputs": [
    {
     "name": "stdout",
     "output_type": "stream",
     "text": [
      "Test loss :  0.015143156051635742\n",
      "tensor([[ 1.1824e-02],\n",
      "        [ 9.9929e-03],\n",
      "        [ 1.7040e-03],\n",
      "        [-2.7939e+00],\n",
      "        [-1.6091e+00],\n",
      "        [ 5.1194e-02],\n",
      "        [ 3.9193e+00],\n",
      "        [ 1.6845e-03],\n",
      "        [ 1.5362e-03],\n",
      "        [ 1.7441e-03]], grad_fn=<SliceBackward>) \n",
      " tensor([[ 1.2316e-02],\n",
      "        [-3.2720e-03],\n",
      "        [-2.2740e-06],\n",
      "        [-2.7094e+00],\n",
      "        [-1.6992e+00],\n",
      "        [ 4.1938e-02],\n",
      "        [ 4.0000e+00],\n",
      "        [-7.3462e-05],\n",
      "        [ 2.3417e-04],\n",
      "        [ 4.2021e-06]])\n",
      "time: 25.5 ms (started: 2020-12-31 20:51:40 -05:00)\n"
     ]
    }
   ],
   "source": [
    "outputs = NN(X_test)\n",
    "loss = criterion(outputs, y_test)\n",
    "print('Test loss : ', loss.item())\n",
    "print(outputs[0:10],'\\n', y_test[0:10])"
   ]
  },
  {
   "cell_type": "code",
   "execution_count": null,
   "metadata": {},
   "outputs": [],
   "source": [
    "#torch.save(NN.state_dict(), 'MPC_model_weights')\n"
   ]
  },
  {
   "cell_type": "code",
   "execution_count": 29,
   "metadata": {},
   "outputs": [
    {
     "data": {
      "text/plain": [
       "<All keys matched successfully>"
      ]
     },
     "execution_count": 29,
     "metadata": {},
     "output_type": "execute_result"
    },
    {
     "name": "stdout",
     "output_type": "stream",
     "text": [
      "time: 9.85 ms (started: 2020-12-31 20:51:34 -05:00)\n"
     ]
    }
   ],
   "source": [
    "NN.load_state_dict(torch.load('MPC_model_weights'))"
   ]
  },
  {
   "cell_type": "code",
   "execution_count": null,
   "metadata": {},
   "outputs": [],
   "source": [
    "NN.eval()"
   ]
  },
  {
   "cell_type": "markdown",
   "metadata": {},
   "source": [
    "# Cartpole"
   ]
  },
  {
   "cell_type": "code",
   "execution_count": 36,
   "metadata": {},
   "outputs": [
    {
     "name": "stdout",
     "output_type": "stream",
     "text": [
      "time: 1.12 ms (started: 2020-12-31 20:52:28 -05:00)\n"
     ]
    }
   ],
   "source": [
    "import matplotlib.pyplot as plt\n",
    "import time\n",
    "%matplotlib inline\n",
    "import pylab as pl\n",
    "from IPython import display\n"
   ]
  },
  {
   "cell_type": "code",
   "execution_count": 32,
   "metadata": {},
   "outputs": [
    {
     "name": "stdout",
     "output_type": "stream",
     "text": [
      "time: 1.42 ms (started: 2020-12-31 20:52:14 -05:00)\n"
     ]
    }
   ],
   "source": [
    "def rotate_pos(pos, angle):\n",
    "\n",
    "    rot_mat = np.array([[np.cos(angle), -np.sin(angle)],\n",
    "                        [np.sin(angle), np.cos(angle)]])\n",
    "    #print(np.shape(np.dot(pos, rot_mat.T)))\n",
    "    return np.dot(pos, rot_mat.T)\n",
    "\n",
    "def square(center_x, center_y, shape, angle):\n",
    "\n",
    "    #square_xy = np.array([shape[0], shape[1]])\n",
    "    square_xy = np.array([[shape[0], shape[1]],\n",
    "                              [-shape[0], shape[1]],\n",
    "                              [-shape[0], -shape[1]],\n",
    "                              [shape[0], -shape[1]],\n",
    "                              [shape[0], shape[1]]])\n",
    "    # translate position to world\n",
    "    # rotation\n",
    "    trans_points = rotate_pos(square_xy, angle)\n",
    "    # translation\n",
    "    trans_points += [center_x, center_y]\n",
    "\n",
    "    return trans_points[:,0], trans_points[:,1]\n",
    "\n",
    "def coord_cartpole(curr_q,config):\n",
    "\n",
    "    cart = config[\"cart\"]\n",
    "    l=config[\"l\"]\n",
    "    #cart\n",
    "    cart_x,cart_y = square(curr_q[0], 0., cart, 0.)\n",
    "    #pend\n",
    "    pend_x = [curr_q[0], curr_q[0]+l*np.cos(curr_q[2]-np.pi/2)]\n",
    "    pend_y = [0., l*np.sin(curr_q[2]-np.pi/2)]\n",
    "    return cart_x,cart_y, pend_x, pend_y\n",
    "\n",
    "\n",
    "\n"
   ]
  },
  {
   "cell_type": "code",
   "execution_count": 33,
   "metadata": {},
   "outputs": [
    {
     "name": "stdout",
     "output_type": "stream",
     "text": [
      "time: 2.28 ms (started: 2020-12-31 20:52:15 -05:00)\n"
     ]
    }
   ],
   "source": [
    "config2 = {\"l\": 1, # length of the pendulum\n",
    "         \"mp\": 0.2, # mass of the pendulum\n",
    "         \"Mc\": 1, # Mass of the cart\n",
    "         \"g\": 9.81, # gravity\n",
    "         \"dt\":0.09, # time step for MPC\n",
    "         \"Np\": 22, #Horizn length\n",
    "         \"cart\" : (0.6,0.2), # dimensions of the cart\n",
    "         \"iters\" : 150, # Maximum number of iteration for the solution\n",
    "         \"q11\": 12., # state coefficient diag_1\n",
    "         \"q22\": 0.09, # diag_2\n",
    "         \"q33\": 2., # diag_3\n",
    "         \"q44\": 0.1, # diag_3\n",
    "         \"R\" : 0.3 # Input Coefficient\n",
    "         }\n",
    "def state(curr_q,u,config):\n",
    "    mp = config[\"mp\"]\n",
    "    l = config[\"l\"]\n",
    "    Mc = config[\"Mc\"]\n",
    "    g = config[\"g\"]\n",
    "    dt = config[\"dt\"]\n",
    "    \n",
    "    #state x\n",
    "    dq1 = curr_q[1]  # initial state of the cartpole\n",
    "    # state xdot\n",
    "    dq2 = (u+mp*np.sin(curr_q[2])*(l*(curr_q[3]**2)\n",
    "                                          +g*np.cos(curr_q[2])))/(Mc+mp*(np.sin(curr_q[2])**2))\n",
    "    # state theta\n",
    "    dq3 = curr_q[3]\n",
    "    # state thetadot\n",
    "    dq4 = (-u*np.cos(curr_q[2])-mp*l*(curr_q[3]**2)\n",
    "               *np.cos(curr_q[2])*np.sin(curr_q[2])\n",
    "               -(Mc+mp)*g*np.sin(curr_q[2]))/(l*(Mc+mp*\n",
    "                                                (np.sin(curr_q[2])**2)))\n",
    "    next_q = curr_q+np.array([dq1,dq2,dq3,dq4])*dt\n",
    "    for i in range(np.size(next_q)):\n",
    "        try:\n",
    "            np.dtype(next_q[i])\n",
    "        except:\n",
    "            next_q[i]=next_q[i][0]\n",
    "    return next_q"
   ]
  },
  {
   "cell_type": "code",
   "execution_count": 34,
   "metadata": {},
   "outputs": [
    {
     "name": "stdout",
     "output_type": "stream",
     "text": [
      "time: 103 ms (started: 2020-12-31 20:52:17 -05:00)\n"
     ]
    },
    {
     "name": "stderr",
     "output_type": "stream",
     "text": [
      "/Users/anaconda3/lib/python3.7/site-packages/ipykernel_launcher.py:34: VisibleDeprecationWarning: Creating an ndarray from ragged nested sequences (which is a list-or-tuple of lists-or-tuples-or ndarrays with different lengths or shapes) is deprecated. If you meant to do this, you must specify 'dtype=object' when creating the ndarray\n"
     ]
    }
   ],
   "source": [
    "max_iter=400\n",
    "old_q = np.array([0., 0., -np.random.randn(1)[0], 0.])\n",
    "old_q = torch.tensor(np.reshape(old_q,[1,4]),dtype=torch.float)\n",
    "old_q1=old_q.detach().numpy()[0]\n",
    "history_q = [old_q1]\n",
    "for i in range(max_iter):\n",
    "    \n",
    "    u = NN.forward(old_q)\n",
    "    u = u.detach().numpy()\n",
    "    u = u[0]\n",
    "\n",
    "    \n",
    "    curr_q = np.array(state(old_q1,u,config2)).astype(float)\n",
    "    \n",
    "    history_q.append(curr_q)\n",
    "    old_q=torch.tensor(curr_q,dtype=torch.float)\n",
    "    \n",
    "    old_q1=old_q.detach().numpy()\n",
    "\n",
    "\n",
    "\n",
    "    \n"
   ]
  },
  {
   "cell_type": "code",
   "execution_count": 37,
   "metadata": {},
   "outputs": [
    {
     "data": {
      "image/png": "[encoded data removed]",
      "text/plain": [
       "<Figure size 432x288 with 1 Axes>"
      ]
     },
     "metadata": {
      "needs_background": "light"
     },
     "output_type": "display_data"
    },
    {
     "name": "stdout",
     "output_type": "stream",
     "text": [
      "time: 1min (started: 2020-12-31 20:52:32 -05:00)\n"
     ]
    }
   ],
   "source": [
    "for i in range(max_iter):\n",
    "    curr_x = history_q[i]\n",
    "    x1,y1, x2, y2 = coord_cartpole(curr_x,config2)\n",
    "    pl.clf()\n",
    "    pl.plot(x1, y1, 'g-',x2, y2, 'r--o')\n",
    "    pl.xlim(-3.5, 3.5)\n",
    "    pl.ylim(-1.5,1.5)\n",
    "    display.display(pl.gcf())\n",
    "    display.clear_output(wait=True)\n",
    "    time.sleep(0.00006)"
   ]
  },
  {
   "cell_type": "code",
   "execution_count": null,
   "metadata": {},
   "outputs": [],
   "source": [
    "x=[]\n",
    "xdot=[]\n",
    "th=[]\n",
    "thdot=[]\n",
    "for i in range(max_iter):\n",
    "    x.append(history_q[i][0])\n",
    "    xdot.append(history_q[i][1])\n",
    "    th.append(history_q[i][2])\n",
    "    thdot.append(history_q[i][3])\n",
    " \n",
    "\n",
    "plt.plot(x)\n",
    "plt.plot(xdot)\n",
    "plt.plot(th)\n",
    "plt.plot(thdot)\n",
    "plt.legend(['x','xdot','theta','thetadot'])"
   ]
  },
  {
   "cell_type": "code",
   "execution_count": null,
   "metadata": {},
   "outputs": [],
   "source": []
  }
 ],
 "metadata": {
  "kernelspec": {
   "display_name": "Python 3",
   "language": "python",
   "name": "python3"
  },
  "language_info": {
   "codemirror_mode": {
    "name": "ipython",
    "version": 3
   },
   "file_extension": ".py",
   "mimetype": "text/x-python",
   "name": "python",
   "nbconvert_exporter": "python",
   "pygments_lexer": "ipython3",
   "version": "3.7.1"
  }
 },
 "nbformat": 4,
 "nbformat_minor": 2
}
