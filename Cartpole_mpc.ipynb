{
 "cells": [
  {
   "cell_type": "markdown",
   "metadata": {},
   "source": [
    "# Imports"
   ]
  },
  {
   "cell_type": "code",
   "execution_count": 1,
   "metadata": {},
   "outputs": [],
   "source": [
    "import numpy as np\n",
    "import matplotlib.pyplot as plt\n",
    "#import matplotlib.axes as Axes\n",
    "from scipy.optimize import minimize\n",
    "#from scipy.optimize import NonlinearConstraint\n",
    "\n",
    "%matplotlib inline\n",
    "import time\n",
    "import pylab as pl\n",
    "from IPython import display"
   ]
  },
  {
   "cell_type": "markdown",
   "metadata": {},
   "source": [
    "# Parameters"
   ]
  },
  {
   "cell_type": "code",
   "execution_count": 2,
   "metadata": {},
   "outputs": [],
   "source": [
    "config = {\"l\": 1,\n",
    "         \"mp\": 0.2,\n",
    "         \"Mc\": 1,\n",
    "         \"g\": 9.81,\n",
    "         \"dt\":0.09,\n",
    "         \"Np\": 18,\n",
    "         \"cart\" : (0.6,0.2),\n",
    "         \"iters\" : 110,\n",
    "         \"q11\": 12.,\n",
    "         \"q22\": 0.09,\n",
    "         \"q33\": 1.,\n",
    "         \"q44\": 0.1,\n",
    "         \"R\" : 0.3}\n",
    "\n",
    "Np=config[\"Np\"]\n",
    "bound_u=(-3.,3.)\n",
    "bound =((bound_u,)*Np)\n",
    "\n",
    "curr_q = np.array([0., 0., -np.random.randn(1)[0], 0.])\n",
    "curr_q = np.reshape(curr_q,[4,1])\n",
    "u = np.array(np.ones(Np))\n",
    "\n"
   ]
  },
  {
   "cell_type": "markdown",
   "metadata": {},
   "source": [
    "# Helper functions"
   ]
  },
  {
   "cell_type": "code",
   "execution_count": 3,
   "metadata": {},
   "outputs": [],
   "source": [
    "def state(curr_q,u,config):\n",
    "    mp = config[\"mp\"]\n",
    "    l = config[\"l\"]\n",
    "    Mc = config[\"Mc\"]\n",
    "    g = config[\"g\"]\n",
    "    dt = config[\"dt\"]\n",
    "    \n",
    "    #state x\n",
    "    dq1 = curr_q[1]  # initial state of the cartpole\n",
    "    # state xdot\n",
    "    dq2 = (u+mp*np.sin(curr_q[2])*(l*(curr_q[3]**2)\n",
    "                                          +g*np.cos(curr_q[2])))/(Mc+mp*(np.sin(curr_q[2])**2))\n",
    "    # state theta\n",
    "    dq3 = curr_q[3]\n",
    "    # state thetadot\n",
    "    dq4 = (-u*np.cos(curr_q[2])-mp*l*(curr_q[3]**2)\n",
    "               *np.cos(curr_q[2])*np.sin(curr_q[2])\n",
    "               -(Mc+mp)*g*np.sin(curr_q[2]))/(l*(Mc+mp*\n",
    "                                                (np.sin(curr_q[2])**2)))\n",
    "    next_q = curr_q+np.array([dq1,dq2,dq3,dq4])*dt\n",
    "    return next_q"
   ]
  },
  {
   "cell_type": "code",
   "execution_count": 4,
   "metadata": {},
   "outputs": [],
   "source": [
    "def cost_fn(u,curr_q,config):\n",
    "    mp = config[\"mp\"]\n",
    "    l = config[\"l\"]\n",
    "    Mc = config[\"Mc\"]\n",
    "    g = config[\"g\"]\n",
    "    dt = config[\"dt\"]\n",
    "    Np= config[\"Np\"]\n",
    "    R = config[\"R\"]\n",
    "    cost=0\n",
    "    q_ref = np.array([0., 0., np.pi, 0.])\n",
    "    Q = np.array([[config[\"q11\"], 0., 0.,  0.],\n",
    "        [0., config[\"q22\"], 0., 0.],\n",
    "        [0., 0., config[\"q33\"], 0.],\n",
    "        [0., 0., 0., config[\"q44\"]]])\n",
    "    diff = np.zeros_like(q_ref)\n",
    "    for i in range(Np):\n",
    "\n",
    "        next_q = state(curr_q,u[i], config)\n",
    "        diff[0] = curr_q[0] - q_ref[0]\n",
    "        diff[1] = curr_q[1] - q_ref[1]\n",
    "        diff[2] = curr_q[2] - q_ref[2]\n",
    "        diff[3] = curr_q[3] - q_ref[3]\n",
    "\n",
    "        iter_cost = np.matmul(np.matmul(diff.T,Q),diff) + R*((u[i]-0.)**2)\n",
    "        cost += iter_cost\n",
    "        curr_q = next_q\n",
    "    return cost"
   ]
  },
  {
   "cell_type": "code",
   "execution_count": 5,
   "metadata": {},
   "outputs": [],
   "source": [
    "max_iter = config[\"iters\"]\n",
    "history_q = []\n",
    "history_u = []\n",
    "p=0.2\n",
    "for i in range(max_iter):\n",
    "    #if i>int(0.8*max_iter) and np.random.random(1)<p:\n",
    "    #curr_q[2] += np.random.randn(1)[0]\n",
    "    history_q.append(curr_q)\n",
    "    cost=cost_fn(u,curr_q,config)\n",
    "    out=minimize(cost_fn,u,(curr_q,config), method='L-BFGS-B', bounds=bound,\n",
    "                 options={'disp': False})\n",
    "\n",
    "\n",
    "    u=out.x\n",
    "    history_u.append(u[0])\n",
    "    curr_q= state(curr_q,u[0], config)\n"
   ]
  },
  {
   "cell_type": "markdown",
   "metadata": {},
   "source": [
    "# Helper Functions for display"
   ]
  },
  {
   "cell_type": "code",
   "execution_count": 6,
   "metadata": {},
   "outputs": [],
   "source": [
    "def rotate_pos(pos, angle):\n",
    "\n",
    "    rot_mat = np.array([[np.cos(angle), -np.sin(angle)],\n",
    "                        [np.sin(angle), np.cos(angle)]])\n",
    "    #print(np.shape(np.dot(pos, rot_mat.T)))\n",
    "    return np.dot(pos, rot_mat.T)\n",
    "\n",
    "def square(center_x, center_y, shape, angle):\n",
    "\n",
    "    #square_xy = np.array([shape[0], shape[1]])\n",
    "    square_xy = np.array([[shape[0], shape[1]],\n",
    "                              [-shape[0], shape[1]],\n",
    "                              [-shape[0], -shape[1]],\n",
    "                              [shape[0], -shape[1]],\n",
    "                              [shape[0], shape[1]]])\n",
    "    # translate position to world\n",
    "    # rotation\n",
    "    trans_points = rotate_pos(square_xy, angle)\n",
    "    #print([center_x[0], center_y])\n",
    "    #print(trans_points)\n",
    "    # translation\n",
    "    trans_points += [center_x[0], center_y]\n",
    "\n",
    "    return trans_points[:,0], trans_points[:,1]\n",
    "\n",
    "def coord_cartpole(curr_q,config):\n",
    "\n",
    "    cart=config[\"cart\"]\n",
    "    l=config[\"l\"]\n",
    "    #cart\n",
    "    cart_x,cart_y = square(curr_q[0], 0., cart, 0.)\n",
    "    #pend\n",
    "    pend_x = np.array([curr_q[0], curr_q[0]+l*np.cos(curr_q[2]-np.pi/2)])\n",
    "    pend_y = np.array([0., l*np.sin(curr_q[2]-np.pi/2)])\n",
    "    return cart_x,cart_y, pend_x, pend_y\n",
    "\n",
    "\n"
   ]
  },
  {
   "cell_type": "markdown",
   "metadata": {},
   "source": [
    "# Visualization Cartpole"
   ]
  },
  {
   "cell_type": "code",
   "execution_count": 7,
   "metadata": {},
   "outputs": [
    {
     "data": {
      "image/png": "[encoded data removed]",
      "text/plain": [
       "<Figure size 432x288 with 1 Axes>"
      ]
     },
     "metadata": {
      "needs_background": "light"
     },
     "output_type": "display_data"
    }
   ],
   "source": [
    "\n",
    "for i in range(max_iter):\n",
    "    curr_x = history_q[i]\n",
    "    x1,y1, x2, y2 = coord_cartpole(curr_x,config)\n",
    "    pl.clf()\n",
    "    pl.plot(x1, y1, 'g-',x2, y2, 'r--o')\n",
    "    pl.xlim(-3.5, 3.5)\n",
    "    pl.ylim(-1.5,1.5)\n",
    "    display.display(pl.gcf())\n",
    "    display.clear_output(wait=True)\n",
    "    time.sleep(0.001)"
   ]
  },
  {
   "cell_type": "markdown",
   "metadata": {},
   "source": [
    "# Visualization states and input"
   ]
  },
  {
   "cell_type": "code",
   "execution_count": 8,
   "metadata": {},
   "outputs": [
    {
     "data": {
      "text/plain": [
       "<matplotlib.legend.Legend at 0x516718310>"
      ]
     },
     "execution_count": 8,
     "metadata": {},
     "output_type": "execute_result"
    },
    {
     "data": {
      "image/png": "[encoded data removed]",
      "text/plain": [
       "<Figure size 432x288 with 1 Axes>"
      ]
     },
     "metadata": {
      "needs_background": "light"
     },
     "output_type": "display_data"
    }
   ],
   "source": [
    "x=[]\n",
    "xdot=[]\n",
    "th=[]\n",
    "thdot=[]\n",
    "for i in range(max_iter):\n",
    "    x.append(history_q[i][0])\n",
    "    xdot.append(history_q[i][1])\n",
    "    th.append(history_q[i][2])\n",
    "    thdot.append(history_q[i][3])\n",
    " \n",
    "\n",
    "plt.plot(x)\n",
    "plt.plot(xdot)\n",
    "plt.plot(th)\n",
    "plt.plot(thdot)\n",
    "plt.plot(history_u)\n",
    "plt.legend(['x','xdot','theta','thetadot','u'])"
   ]
  }
 ],
 "metadata": {
  "kernelspec": {
   "display_name": "Python 3",
   "language": "python",
   "name": "python3"
  },
  "language_info": {
   "codemirror_mode": {
    "name": "ipython",
    "version": 3
   },
   "file_extension": ".py",
   "mimetype": "text/x-python",
   "name": "python",
   "nbconvert_exporter": "python",
   "pygments_lexer": "ipython3",
   "version": "3.7.4"
  }
 },
 "nbformat": 4,
 "nbformat_minor": 4
}
